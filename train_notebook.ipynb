{
 "cells": [
  {
   "cell_type": "code",
   "execution_count": 1,
   "metadata": {},
   "outputs": [
    {
     "name": "stderr",
     "output_type": "stream",
     "text": [
      "Using TensorFlow backend.\n"
     ]
    }
   ],
   "source": [
    "import numpy as np\n",
    "import pickle\n",
    "\n",
    "import os\n",
    "import os.path as path\n",
    "\n",
    "import keras\n",
    "from keras import backend as K\n",
    "\n",
    "from sklearn.model_selection import train_test_split\n",
    "from sklearn.model_selection import StratifiedKFold\n",
    "\n",
    "import pandas as pd\n",
    "\n",
    "import tensorflow as tf\n",
    "from tensorflow.python.tools import freeze_graph\n",
    "from tensorflow.python.tools import optimize_for_inference_lib"
   ]
  },
  {
   "cell_type": "markdown",
   "metadata": {},
   "source": [
    "### Loading the preprocessed data and labels"
   ]
  },
  {
   "cell_type": "code",
   "execution_count": 2,
   "metadata": {
    "collapsed": true
   },
   "outputs": [],
   "source": [
    "\"\"\"\n",
    "Loading the preprocessed data\n",
    "\"\"\"\n",
    "\n",
    "train_images = pickle.load( open('train_images32_final.pkl', 'rb'))\n",
    "train_labels = pickle.load( open('train_labels32_final.pkl', 'rb'))\n",
    "\n",
    "test_images = pickle.load( open('test_images32_final.pkl', 'rb'))\n",
    "test_labels = pickle.load( open('test_labels32_final.pkl', 'rb'))\n"
   ]
  },
  {
   "cell_type": "code",
   "execution_count": 3,
   "metadata": {
    "collapsed": true
   },
   "outputs": [],
   "source": [
    "from keras.models import Sequential\n",
    "from keras.layers.core import Flatten, Dense, Dropout\n",
    "from keras.layers import Conv2D as Convolution2D\n",
    "from keras.layers import MaxPooling2D, ZeroPadding2D\n",
    "from keras.layers import Dropout\n",
    "from keras.layers import BatchNormalization\n",
    "from keras.optimizers import SGD, Adam"
   ]
  },
  {
   "cell_type": "markdown",
   "metadata": {},
   "source": [
    "### Defining the hyperparameters\n",
    "    These have been obtained experimentally"
   ]
  },
  {
   "cell_type": "code",
   "execution_count": 24,
   "metadata": {
    "collapsed": true
   },
   "outputs": [],
   "source": [
    "MODEL_NAME = 'gtsrb_convnet'\n",
    "EPOCHS = 20\n",
    "BATCH_SIZE = 1024\n",
    "KEEP_PROB = 0.8\n",
    "LEARNING_RATE = 0.003"
   ]
  },
  {
   "cell_type": "markdown",
   "metadata": {},
   "source": [
    "### Defining the architecture of the basic model "
   ]
  },
  {
   "cell_type": "code",
   "execution_count": 15,
   "metadata": {
    "collapsed": true
   },
   "outputs": [],
   "source": [
    "\"\"\"\n",
    "Basic model\n",
    "\"\"\"\n",
    "\n",
    "def Basic_model(weights_path=None):\n",
    "    model = Sequential()\n",
    "    model.add(Flatten(input_shape=(32,32,1)))\n",
    "    model.add(Dense(1024, activation='relu'))\n",
    "    model.add(Dense(1024, activation='relu'))\n",
    "    model.add(Dense(1024, activation='relu'))\n",
    "    model.add(Dense(43, activation='softmax'))\n",
    "    \n",
    "    if weights_path:\n",
    "        model.load_weights(weights_path)\n",
    "\n",
    "    return model\n",
    "\n",
    "basic_model = Basic_model()"
   ]
  },
  {
   "cell_type": "markdown",
   "metadata": {},
   "source": [
    "### Initializing the optimizer for the model"
   ]
  },
  {
   "cell_type": "code",
   "execution_count": 16,
   "metadata": {
    "collapsed": true
   },
   "outputs": [],
   "source": [
    "basic_model.compile(optimizer='Adam',\n",
    "          loss='categorical_crossentropy',\n",
    "          metrics=['accuracy'])"
   ]
  },
  {
   "cell_type": "markdown",
   "metadata": {},
   "source": [
    "### Training the model"
   ]
  },
  {
   "cell_type": "code",
   "execution_count": 17,
   "metadata": {
    "scrolled": true
   },
   "outputs": [
    {
     "name": "stdout",
     "output_type": "stream",
     "text": [
      "Train on 35288 samples, validate on 3921 samples\n",
      "Epoch 1/50\n",
      "35288/35288 [==============================] - 1s 38us/step - loss: 1.8337 - acc: 0.5128 - val_loss: 0.8388 - val_acc: 0.7656\n",
      "Epoch 2/50\n",
      "35288/35288 [==============================] - 1s 20us/step - loss: 0.6436 - acc: 0.8204 - val_loss: 0.5297 - val_acc: 0.8317\n",
      "Epoch 3/50\n",
      "35288/35288 [==============================] - 1s 20us/step - loss: 0.4480 - acc: 0.8798 - val_loss: 0.3537 - val_acc: 0.9074\n",
      "Epoch 4/50\n",
      "35288/35288 [==============================] - 1s 20us/step - loss: 0.4275 - acc: 0.8857 - val_loss: 0.3983 - val_acc: 0.8972\n",
      "Epoch 5/50\n",
      "35288/35288 [==============================] - 1s 20us/step - loss: 0.2744 - acc: 0.9286 - val_loss: 0.2093 - val_acc: 0.9449\n",
      "Epoch 6/50\n",
      "35288/35288 [==============================] - 1s 20us/step - loss: 0.1763 - acc: 0.9517 - val_loss: 0.2932 - val_acc: 0.9186\n",
      "Epoch 7/50\n",
      "35288/35288 [==============================] - 1s 20us/step - loss: 0.2221 - acc: 0.9406 - val_loss: 0.2291 - val_acc: 0.9419\n",
      "Epoch 8/50\n",
      "35288/35288 [==============================] - 1s 20us/step - loss: 0.1818 - acc: 0.9496 - val_loss: 0.1906 - val_acc: 0.9536\n",
      "Epoch 9/50\n",
      "35288/35288 [==============================] - 1s 20us/step - loss: 0.1459 - acc: 0.9575 - val_loss: 0.1756 - val_acc: 0.9510\n",
      "Epoch 10/50\n",
      "35288/35288 [==============================] - 1s 20us/step - loss: 0.0980 - acc: 0.9731 - val_loss: 0.1642 - val_acc: 0.9521\n",
      "Epoch 11/50\n",
      "35288/35288 [==============================] - 1s 20us/step - loss: 0.1660 - acc: 0.9538 - val_loss: 0.4165 - val_acc: 0.9008\n",
      "Epoch 12/50\n",
      "35288/35288 [==============================] - 1s 20us/step - loss: 0.1655 - acc: 0.9560 - val_loss: 0.1406 - val_acc: 0.9635\n",
      "Epoch 13/50\n",
      "35288/35288 [==============================] - 1s 20us/step - loss: 0.1195 - acc: 0.9661 - val_loss: 0.1257 - val_acc: 0.9712\n",
      "Epoch 14/50\n",
      "35288/35288 [==============================] - 1s 20us/step - loss: 0.0817 - acc: 0.9771 - val_loss: 0.1419 - val_acc: 0.9668\n",
      "Epoch 15/50\n",
      "35288/35288 [==============================] - 1s 20us/step - loss: 0.0761 - acc: 0.9787 - val_loss: 0.1054 - val_acc: 0.9748\n",
      "Epoch 16/50\n",
      "35288/35288 [==============================] - 1s 20us/step - loss: 0.0837 - acc: 0.9751 - val_loss: 0.1408 - val_acc: 0.9656\n",
      "Epoch 17/50\n",
      "35288/35288 [==============================] - 1s 20us/step - loss: 0.0765 - acc: 0.9786 - val_loss: 0.2551 - val_acc: 0.9288\n",
      "Epoch 18/50\n",
      "35288/35288 [==============================] - 1s 20us/step - loss: 0.1040 - acc: 0.9708 - val_loss: 0.1283 - val_acc: 0.9704\n",
      "Epoch 19/50\n",
      "35288/35288 [==============================] - 1s 20us/step - loss: 0.0433 - acc: 0.9878 - val_loss: 0.1071 - val_acc: 0.9745\n",
      "Epoch 20/50\n",
      "35288/35288 [==============================] - 1s 20us/step - loss: 0.0453 - acc: 0.9864 - val_loss: 0.1156 - val_acc: 0.9773\n",
      "Epoch 21/50\n",
      "35288/35288 [==============================] - 1s 20us/step - loss: 0.0390 - acc: 0.9888 - val_loss: 0.1226 - val_acc: 0.9740\n",
      "Epoch 22/50\n",
      "35288/35288 [==============================] - 1s 20us/step - loss: 0.0759 - acc: 0.9775 - val_loss: 0.2117 - val_acc: 0.9441\n",
      "Epoch 23/50\n",
      "35288/35288 [==============================] - 1s 20us/step - loss: 0.0865 - acc: 0.9760 - val_loss: 0.1442 - val_acc: 0.9668\n",
      "Epoch 24/50\n",
      "35288/35288 [==============================] - 1s 20us/step - loss: 0.0707 - acc: 0.9806 - val_loss: 0.1121 - val_acc: 0.9737\n",
      "Epoch 25/50\n",
      "35288/35288 [==============================] - 1s 20us/step - loss: 0.0714 - acc: 0.9771 - val_loss: 0.1353 - val_acc: 0.9668\n",
      "Epoch 26/50\n",
      "35288/35288 [==============================] - 1s 20us/step - loss: 0.0588 - acc: 0.9817 - val_loss: 0.1442 - val_acc: 0.9674\n",
      "Epoch 27/50\n",
      "35288/35288 [==============================] - 1s 20us/step - loss: 0.0606 - acc: 0.9820 - val_loss: 0.1657 - val_acc: 0.9594\n",
      "Epoch 28/50\n",
      "35288/35288 [==============================] - 1s 20us/step - loss: 0.0922 - acc: 0.9730 - val_loss: 0.1192 - val_acc: 0.9753\n",
      "Epoch 29/50\n",
      "35288/35288 [==============================] - 1s 20us/step - loss: 0.0462 - acc: 0.9866 - val_loss: 0.1259 - val_acc: 0.9722\n",
      "Epoch 30/50\n",
      "35288/35288 [==============================] - 1s 20us/step - loss: 0.0703 - acc: 0.9778 - val_loss: 0.1060 - val_acc: 0.9768\n",
      "Epoch 31/50\n",
      "35288/35288 [==============================] - 1s 20us/step - loss: 0.0434 - acc: 0.9876 - val_loss: 0.1272 - val_acc: 0.9699\n",
      "Epoch 32/50\n",
      "35288/35288 [==============================] - 1s 20us/step - loss: 0.0373 - acc: 0.9888 - val_loss: 0.1721 - val_acc: 0.9587\n",
      "Epoch 33/50\n",
      "35288/35288 [==============================] - 1s 20us/step - loss: 0.2490 - acc: 0.9329 - val_loss: 0.1832 - val_acc: 0.9559\n",
      "Epoch 34/50\n",
      "35288/35288 [==============================] - 1s 20us/step - loss: 0.0843 - acc: 0.9780 - val_loss: 0.1359 - val_acc: 0.9709\n",
      "Epoch 35/50\n",
      "35288/35288 [==============================] - 1s 20us/step - loss: 0.0791 - acc: 0.9772 - val_loss: 0.1426 - val_acc: 0.9691\n",
      "Epoch 36/50\n",
      "35288/35288 [==============================] - 1s 20us/step - loss: 0.0517 - acc: 0.9852 - val_loss: 0.4582 - val_acc: 0.9179\n",
      "Epoch 37/50\n",
      "35288/35288 [==============================] - 1s 20us/step - loss: 0.1017 - acc: 0.9722 - val_loss: 0.1210 - val_acc: 0.9768\n",
      "Epoch 38/50\n",
      "35288/35288 [==============================] - 1s 20us/step - loss: 0.1178 - acc: 0.9687 - val_loss: 0.2013 - val_acc: 0.9551\n",
      "Epoch 39/50\n",
      "35288/35288 [==============================] - 1s 20us/step - loss: 0.0570 - acc: 0.9837 - val_loss: 0.1157 - val_acc: 0.9773\n",
      "Epoch 40/50\n",
      "35288/35288 [==============================] - 1s 20us/step - loss: 0.0218 - acc: 0.9940 - val_loss: 0.1067 - val_acc: 0.9796\n",
      "Epoch 41/50\n",
      "35288/35288 [==============================] - 1s 20us/step - loss: 0.0276 - acc: 0.9916 - val_loss: 0.1962 - val_acc: 0.9559\n",
      "Epoch 42/50\n",
      "35288/35288 [==============================] - 1s 20us/step - loss: 0.0528 - acc: 0.9843 - val_loss: 0.1550 - val_acc: 0.9656\n",
      "Epoch 43/50\n",
      "35288/35288 [==============================] - 1s 20us/step - loss: 0.0564 - acc: 0.9827 - val_loss: 0.1131 - val_acc: 0.9732\n",
      "Epoch 44/50\n",
      "35288/35288 [==============================] - 1s 20us/step - loss: 0.0302 - acc: 0.9908 - val_loss: 0.1019 - val_acc: 0.9816\n",
      "Epoch 45/50\n",
      "35288/35288 [==============================] - 1s 20us/step - loss: 0.0174 - acc: 0.9951 - val_loss: 0.1608 - val_acc: 0.9671\n",
      "Epoch 46/50\n",
      "35288/35288 [==============================] - 1s 20us/step - loss: 0.5813 - acc: 0.8683 - val_loss: 0.5202 - val_acc: 0.8577\n",
      "Epoch 47/50\n",
      "35288/35288 [==============================] - 1s 20us/step - loss: 0.2227 - acc: 0.9401 - val_loss: 0.1466 - val_acc: 0.9684\n",
      "Epoch 48/50\n",
      "35288/35288 [==============================] - 1s 20us/step - loss: 0.0494 - acc: 0.9862 - val_loss: 0.1055 - val_acc: 0.9773\n",
      "Epoch 49/50\n",
      "35288/35288 [==============================] - 1s 20us/step - loss: 0.0236 - acc: 0.9937 - val_loss: 0.1389 - val_acc: 0.9671\n",
      "Epoch 50/50\n",
      "35288/35288 [==============================] - 1s 20us/step - loss: 0.0553 - acc: 0.9835 - val_loss: 0.1452 - val_acc: 0.9612\n"
     ]
    }
   ],
   "source": [
    "trained_model = basic_model.fit(train_images, train_labels, epochs=50, batch_size=BATCH_SIZE, validation_split=0.1, shuffle=True)"
   ]
  },
  {
   "cell_type": "markdown",
   "metadata": {},
   "source": [
    "### Measuring the performance of the basic model\n",
    "    The first value gives the loss and the second value is the accuracy of the model on the training data"
   ]
  },
  {
   "cell_type": "code",
   "execution_count": 18,
   "metadata": {},
   "outputs": [
    {
     "name": "stdout",
     "output_type": "stream",
     "text": [
      "12630/12630 [==============================] - 0s 10us/step\n"
     ]
    },
    {
     "data": {
      "text/plain": [
       "[0.80192665466692181, 0.87973080056108188]"
      ]
     },
     "execution_count": 18,
     "metadata": {},
     "output_type": "execute_result"
    }
   ],
   "source": [
    "\"\"\"\n",
    "model performance evaluation\n",
    "\"\"\"\n",
    "\n",
    "basic_model.evaluate( test_images, test_labels, batch_size=1024, verbose=1)"
   ]
  },
  {
   "cell_type": "markdown",
   "metadata": {},
   "source": [
    "### Defining the architecture of the final model "
   ]
  },
  {
   "cell_type": "code",
   "execution_count": 25,
   "metadata": {
    "collapsed": true
   },
   "outputs": [],
   "source": [
    "\"\"\"\n",
    "The model implemented here is a modification of VGGNet 16 which was a winner at ImageNet Challenge\n",
    "It consists of 3x3 convolutions, Max Poolings, 2 Fully connected layers and dropout.\n",
    "\"\"\"\n",
    "\n",
    "def VGG_modded(weights_path=None):\n",
    "    model = Sequential()\n",
    "    model.add(ZeroPadding2D((1,1),input_shape=(32,32,1)))\n",
    "    model.add(Convolution2D(32, (3, 3), activation='relu'))\n",
    "    model.add(ZeroPadding2D((1,1)))\n",
    "    model.add(Convolution2D(32, (3, 3), activation='relu'))\n",
    "    model.add(MaxPooling2D((2,2), strides=(2,2)))    # 32 x 32\n",
    "\n",
    "    model.add(ZeroPadding2D((1,1)))\n",
    "    model.add(Convolution2D(64, (3, 3), activation='relu'))\n",
    "    model.add(ZeroPadding2D((1,1)))\n",
    "    model.add(Convolution2D(64, (3, 3), activation='relu'))\n",
    "    model.add(MaxPooling2D((2,2), strides=(2,2)))   # 16 x 16\n",
    "\n",
    "    model.add(Flatten())\n",
    "    model.add(Dense(512, activation='relu'))\n",
    "    model.add(Dropout(KEEP_PROB))\n",
    "    model.add(Dense(43, activation='softmax'))\n",
    "\n",
    "    if weights_path:\n",
    "        model.load_weights(weights_path)\n",
    "\n",
    "    return model\n",
    "\n",
    "model = VGG_modded()\n"
   ]
  },
  {
   "cell_type": "markdown",
   "metadata": {},
   "source": [
    "### Initializing the optimizer for the model"
   ]
  },
  {
   "cell_type": "code",
   "execution_count": 26,
   "metadata": {
    "collapsed": true
   },
   "outputs": [],
   "source": [
    "\"\"\"\n",
    "Setting evaluation metrics, optimizer and loss function.\n",
    "\"\"\"\n",
    "\n",
    "adam = Adam(lr = LEARNING_RATE)\n",
    "\n",
    "model.compile(optimizer=adam,\n",
    "          loss='categorical_crossentropy',\n",
    "          metrics=['accuracy'])"
   ]
  },
  {
   "cell_type": "markdown",
   "metadata": {},
   "source": [
    "### Training the model"
   ]
  },
  {
   "cell_type": "code",
   "execution_count": 27,
   "metadata": {
    "scrolled": true
   },
   "outputs": [
    {
     "name": "stdout",
     "output_type": "stream",
     "text": [
      "Train on 35288 samples, validate on 3921 samples\n",
      "Epoch 1/20\n",
      "35288/35288 [==============================] - 10s 272us/step - loss: 2.4070 - acc: 0.3641 - val_loss: 0.5208 - val_acc: 0.8720\n",
      "Epoch 2/20\n",
      "35288/35288 [==============================] - 9s 247us/step - loss: 0.5246 - acc: 0.8434 - val_loss: 0.1026 - val_acc: 0.9768\n",
      "Epoch 3/20\n",
      "35288/35288 [==============================] - 9s 247us/step - loss: 0.2433 - acc: 0.9286 - val_loss: 0.0623 - val_acc: 0.9855\n",
      "Epoch 4/20\n",
      "35288/35288 [==============================] - 9s 247us/step - loss: 0.1550 - acc: 0.9540 - val_loss: 0.0351 - val_acc: 0.9916\n",
      "Epoch 5/20\n",
      "35288/35288 [==============================] - 9s 247us/step - loss: 0.1204 - acc: 0.9633 - val_loss: 0.0253 - val_acc: 0.9944\n",
      "Epoch 6/20\n",
      "35288/35288 [==============================] - 9s 247us/step - loss: 0.0987 - acc: 0.9703 - val_loss: 0.0249 - val_acc: 0.9946\n",
      "Epoch 7/20\n",
      "35288/35288 [==============================] - 9s 247us/step - loss: 0.0817 - acc: 0.9751 - val_loss: 0.0185 - val_acc: 0.9967\n",
      "Epoch 8/20\n",
      "35288/35288 [==============================] - 9s 247us/step - loss: 0.0655 - acc: 0.9800 - val_loss: 0.0183 - val_acc: 0.9967\n",
      "Epoch 9/20\n",
      "35288/35288 [==============================] - 9s 248us/step - loss: 0.0609 - acc: 0.9811 - val_loss: 0.0199 - val_acc: 0.9954\n",
      "Epoch 10/20\n",
      "35288/35288 [==============================] - 9s 248us/step - loss: 0.0601 - acc: 0.9812 - val_loss: 0.0168 - val_acc: 0.9957\n",
      "Epoch 11/20\n",
      "35288/35288 [==============================] - 9s 248us/step - loss: 0.0523 - acc: 0.9835 - val_loss: 0.0167 - val_acc: 0.9959\n",
      "Epoch 12/20\n",
      "35288/35288 [==============================] - 9s 248us/step - loss: 0.0430 - acc: 0.9861 - val_loss: 0.0152 - val_acc: 0.9959\n",
      "Epoch 13/20\n",
      "35288/35288 [==============================] - 9s 248us/step - loss: 0.0400 - acc: 0.9876 - val_loss: 0.0185 - val_acc: 0.9957\n",
      "Epoch 14/20\n",
      "35288/35288 [==============================] - 9s 248us/step - loss: 0.0412 - acc: 0.9866 - val_loss: 0.0171 - val_acc: 0.9954\n",
      "Epoch 15/20\n",
      "35288/35288 [==============================] - 9s 248us/step - loss: 0.0388 - acc: 0.9881 - val_loss: 0.0155 - val_acc: 0.9959\n",
      "Epoch 16/20\n",
      "35288/35288 [==============================] - 9s 248us/step - loss: 0.0336 - acc: 0.9896 - val_loss: 0.0171 - val_acc: 0.9967\n",
      "Epoch 17/20\n",
      "35288/35288 [==============================] - 9s 247us/step - loss: 0.0342 - acc: 0.9887 - val_loss: 0.0182 - val_acc: 0.9957\n",
      "Epoch 18/20\n",
      "35288/35288 [==============================] - 9s 247us/step - loss: 0.0326 - acc: 0.9897 - val_loss: 0.0148 - val_acc: 0.9962\n",
      "Epoch 19/20\n",
      "35288/35288 [==============================] - 9s 247us/step - loss: 0.0291 - acc: 0.9911 - val_loss: 0.0137 - val_acc: 0.9972\n",
      "Epoch 20/20\n",
      "35288/35288 [==============================] - 9s 247us/step - loss: 0.0288 - acc: 0.9905 - val_loss: 0.0160 - val_acc: 0.9964\n"
     ]
    }
   ],
   "source": [
    "\"\"\"\n",
    "Training the model\n",
    "\"\"\"\n",
    "trained_model = model.fit(train_images, train_labels, epochs=EPOCHS, batch_size=BATCH_SIZE, validation_split=0.1, shuffle=True)"
   ]
  },
  {
   "cell_type": "code",
   "execution_count": 32,
   "metadata": {},
   "outputs": [
    {
     "data": {
      "image/png": "[encoded data removed]",
      "text/plain": [
       "<matplotlib.figure.Figure at 0x7ff861917fd0>"
      ]
     },
     "metadata": {},
     "output_type": "display_data"
    },
    {
     "data": {
      "image/png": "[encoded data removed]",
      "text/plain": [
       "<matplotlib.figure.Figure at 0x7ff861691f60>"
      ]
     },
     "metadata": {},
     "output_type": "display_data"
    }
   ],
   "source": [
    "import matplotlib.pyplot as plt \n",
    "\n",
    "plt.plot(trained_model.history['acc'])\n",
    "plt.plot(trained_model.history['val_acc'])\n",
    "plt.title('model accuracy')\n",
    "plt.ylabel('accuracy')\n",
    "plt.xlabel('epoch')\n",
    "plt.legend(['train', 'validation'], loc='lower right')\n",
    "plt.show()\n",
    "# summarize history for loss\n",
    "plt.plot(trained_model.history['loss'])\n",
    "plt.plot(trained_model.history['val_loss'])\n",
    "plt.title('model loss')\n",
    "plt.ylabel('loss')\n",
    "plt.xlabel('epoch')\n",
    "plt.legend(['train', 'validation'], loc='upper right')\n",
    "plt.show()"
   ]
  },
  {
   "cell_type": "markdown",
   "metadata": {},
   "source": [
    "### Model performance evaluation\n",
    "    The first value gives the loss and the second value is the accuracy of the model on the training data"
   ]
  },
  {
   "cell_type": "code",
   "execution_count": 20,
   "metadata": {
    "scrolled": false
   },
   "outputs": [
    {
     "name": "stdout",
     "output_type": "stream",
     "text": [
      "12630/12630 [==============================] - 1s 85us/step\n"
     ]
    },
    {
     "data": {
      "text/plain": [
       "[0.099006042174658693, 0.97664291228175826]"
      ]
     },
     "execution_count": 20,
     "metadata": {},
     "output_type": "execute_result"
    }
   ],
   "source": [
    "\"\"\"\n",
    "model performance evaluation\n",
    "\"\"\"\n",
    "\n",
    "model.evaluate( test_images, test_labels, batch_size=1024, verbose=1) #keep_prob 0.8"
   ]
  },
  {
   "cell_type": "markdown",
   "metadata": {},
   "source": [
    "#### Stratified K-Fold Cross Validation"
   ]
  },
  {
   "cell_type": "code",
   "execution_count": 7,
   "metadata": {
    "scrolled": false
   },
   "outputs": [
    {
     "name": "stdout",
     "output_type": "stream",
     "text": [
      "acc: 99.59%\n",
      "acc: 99.79%\n",
      "acc: 99.63%\n",
      "acc: 99.59%\n",
      "acc: 99.54%\n",
      "acc: 99.63%\n",
      "acc: 99.79%\n",
      "acc: 99.79%\n",
      "acc: 99.73%\n",
      "acc: 99.52%\n"
     ]
    }
   ],
   "source": [
    "seed = 29\n",
    "val_splits = 10    # Number of splits to be made (K)\n",
    "np.random.seed(seed)   \n",
    "\n",
    "d = {'Fold' : [], 'Accuracy' : []}\n",
    "df = pd.DataFrame(d)\n",
    "\n",
    "kfold = StratifiedKFold(n_splits=val_splits, shuffle=True, random_state=seed)    # Used to generate folds\n",
    "kscores = []\n",
    "\n",
    "#merge datasets\n",
    "f_images = np.append(train_images, test_images, axis = 0)\n",
    "f_labels = np.append(train_labels, test_labels, axis = 0)\n",
    "lb = np.argmax(f_labels, axis = 1)\n",
    "\n",
    "for train, test in kfold.split(f_images,lb):\n",
    "    model = VGG_modded()\n",
    "    adam = Adam(lr = LEARNING_RATE)\n",
    "    model.compile(loss='categorical_crossentropy', optimizer=adam, metrics=['accuracy'])\n",
    "    model.fit(f_images[train], f_labels[train], epochs=EPOCHS, batch_size=BATCH_SIZE, verbose=0)\n",
    "    scores = model.evaluate(f_images[test], f_labels[test], verbose=0)\n",
    "    \n",
    "    print(\"%s: %.2f%%\" % (model.metrics_names[1], scores[1]*100))\n",
    "    \n",
    "    kscores.append(scores[1] * 100)\n",
    "    \n",
    "\n"
   ]
  },
  {
   "cell_type": "code",
   "execution_count": 10,
   "metadata": {
    "scrolled": false
   },
   "outputs": [
    {
     "name": "stdout",
     "output_type": "stream",
     "text": [
      "             Accuracy\n",
      "0        1  99.594907\n",
      "1        2  99.787809\n",
      "2        3  99.633488\n",
      "3        4  99.594907\n",
      "4        5  99.537037\n",
      "5        6  99.633488\n",
      "6        7  99.787809\n",
      "7        8  99.787809\n",
      "8        9  99.729938\n",
      "9       10  99.517654\n",
      "10    mean  99.660485\n",
      "11  stddev   0.099577\n"
     ]
    }
   ],
   "source": [
    "for i in range(val_splits):\n",
    "    df.loc[i] = [i+1, kscores[i]]\n",
    "df.loc[val_splits] = [\"mean\", np.mean(kscores)]\n",
    "df.loc[val_splits+1] = [\"stddev\", np.std(kscores)]\n",
    "print(df)"
   ]
  },
  {
   "cell_type": "code",
   "execution_count": 7,
   "metadata": {
    "scrolled": true
   },
   "outputs": [
    {
     "data": {
      "text/html": [
       "<div>\n",
       "<table border=\"1\" class=\"dataframe\">\n",
       "  <thead>\n",
       "    <tr style=\"text-align: right;\">\n",
       "      <th></th>\n",
       "      <th>0</th>\n",
       "      <th>1</th>\n",
       "      <th>2</th>\n",
       "      <th>3</th>\n",
       "      <th>4</th>\n",
       "      <th>5</th>\n",
       "      <th>6</th>\n",
       "      <th>7</th>\n",
       "      <th>8</th>\n",
       "      <th>9</th>\n",
       "      <th>10</th>\n",
       "      <th>11</th>\n",
       "    </tr>\n",
       "  </thead>\n",
       "  <tbody>\n",
       "    <tr>\n",
       "      <th>Fold</th>\n",
       "      <td>1</td>\n",
       "      <td>2</td>\n",
       "      <td>3</td>\n",
       "      <td>4</td>\n",
       "      <td>5</td>\n",
       "      <td>6</td>\n",
       "      <td>7</td>\n",
       "      <td>8</td>\n",
       "      <td>9</td>\n",
       "      <td>10</td>\n",
       "      <td>mean</td>\n",
       "      <td>stddev</td>\n",
       "    </tr>\n",
       "    <tr>\n",
       "      <th>Accuracy</th>\n",
       "      <td>99.5949</td>\n",
       "      <td>99.7878</td>\n",
       "      <td>99.6335</td>\n",
       "      <td>99.5949</td>\n",
       "      <td>99.537</td>\n",
       "      <td>99.6335</td>\n",
       "      <td>99.7878</td>\n",
       "      <td>99.7878</td>\n",
       "      <td>99.7299</td>\n",
       "      <td>99.5177</td>\n",
       "      <td>99.6605</td>\n",
       "      <td>0.0995773</td>\n",
       "    </tr>\n",
       "  </tbody>\n",
       "</table>\n",
       "</div>"
      ],
      "text/plain": [
       "                0        1        2        3       4        5        6  \\\n",
       "Fold            1        2        3        4       5        6        7   \n",
       "Accuracy  99.5949  99.7878  99.6335  99.5949  99.537  99.6335  99.7878   \n",
       "\n",
       "                7        8        9       10         11  \n",
       "Fold            8        9       10     mean     stddev  \n",
       "Accuracy  99.7878  99.7299  99.5177  99.6605  0.0995773  "
      ]
     },
     "execution_count": 7,
     "metadata": {},
     "output_type": "execute_result"
    }
   ],
   "source": [
    "df.head(12).transpose()"
   ]
  },
  {
   "cell_type": "markdown",
   "metadata": {},
   "source": [
    "### Function to freeze, optimize and save the tensorflow graph which is to be used on the mobile device"
   ]
  },
  {
   "cell_type": "code",
   "execution_count": 22,
   "metadata": {
    "collapsed": true
   },
   "outputs": [],
   "source": [
    "\"\"\"\n",
    "Exporting model for use on android device.\n",
    "The model is first frozen to prevent further changes in weights\n",
    "and then optimized for better mobile performance.\n",
    "\"\"\"\n",
    "\n",
    "def export_model(saver, model, input_node_names, output_node_name):\n",
    "    tf.train.write_graph(K.get_session().graph_def, 'out', \\\n",
    "        MODEL_NAME + '_graph.pbtxt')\n",
    "\n",
    "    saver.save(K.get_session(), 'out/' + MODEL_NAME + '.chkp')\n",
    "\n",
    "    freeze_graph.freeze_graph('out/' + MODEL_NAME + '_graph.pbtxt', None, \\\n",
    "        False, 'out/' + MODEL_NAME + '.chkp', output_node_name, \\\n",
    "        \"save/restore_all\", \"save/Const:0\", \\\n",
    "        'out/frozen_' + MODEL_NAME + '.pb', True, \"\")\n",
    "\n",
    "    input_graph_def = tf.GraphDef()\n",
    "    with tf.gfile.Open('out/frozen_' + MODEL_NAME + '.pb', \"rb\") as f:\n",
    "        input_graph_def.ParseFromString(f.read())\n",
    "\n",
    "    output_graph_def = optimize_for_inference_lib.optimize_for_inference(\n",
    "            input_graph_def, input_node_names, [output_node_name],\n",
    "          +  tf.float32.as_datatype_enum)\n",
    "\n",
    "    with tf.gfile.FastGFile('out/opt_' + MODEL_NAME + '.pb', \"wb\") as f:\n",
    "        f.write(output_graph_def.SerializeToString())\n",
    "\n",
    "    print(\"graph saved!\")"
   ]
  },
  {
   "cell_type": "code",
   "execution_count": 24,
   "metadata": {
    "scrolled": true
   },
   "outputs": [
    {
     "name": "stdout",
     "output_type": "stream",
     "text": [
      "INFO:tensorflow:Froze 12 variables.\n",
      "Converted 12 variables to const ops.\n",
      "63 ops in the final graph.\n",
      "graph saved!\n"
     ]
    }
   ],
   "source": [
    "if not path.exists('out'):\n",
    "        os.mkdir('out')\n",
    "        \n",
    "export_model(tf.train.Saver(), model, [\"zero_padding2d_1_input\"], \"dense_2/Softmax\")"
   ]
  },
  {
   "cell_type": "code",
   "execution_count": null,
   "metadata": {
    "collapsed": true
   },
   "outputs": [],
   "source": [
    "#END#"
   ]
  }
 ],
 "metadata": {
  "anaconda-cloud": {},
  "kernelspec": {
   "display_name": "Python 3",
   "language": "python",
   "name": "python3"
  },
  "language_info": {
   "codemirror_mode": {
    "name": "ipython",
    "version": 3
   },
   "file_extension": ".py",
   "mimetype": "text/x-python",
   "name": "python",
   "nbconvert_exporter": "python",
   "pygments_lexer": "ipython3",
   "version": "3.4.3"
  }
 },
 "nbformat": 4,
 "nbformat_minor": 2
}
